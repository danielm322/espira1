{
 "metadata": {
  "name": ""
 },
 "nbformat": 3,
 "nbformat_minor": 0,
 "worksheets": [
  {
   "cells": [
    {
     "cell_type": "code",
     "collapsed": false,
     "input": [
      "from numpy import sqrt"
     ],
     "language": "python",
     "metadata": {},
     "outputs": [],
     "prompt_number": 13
    },
    {
     "cell_type": "code",
     "collapsed": false,
     "input": [
      "mp = 3.205e-6\n",
      "g = 9.8\n",
      "L = 0.154\n",
      "Ie = 1.02\n",
      "le = 0.02\n",
      "u0 = 4e-7*np.pi\n",
      "Is = 1.995\n",
      "\n",
      "dmp = 0.128e-6\n",
      "dL = 0.001\n",
      "dIe = 0.0212\n",
      "dle = 0.001\n",
      "dIs = 0.001"
     ],
     "language": "python",
     "metadata": {},
     "outputs": [],
     "prompt_number": 6
    },
    {
     "cell_type": "code",
     "collapsed": false,
     "input": [
      "n = (mp*g*L)/(Ie*le*u0*Is)\n",
      "print n\n",
      "#N = n/L\n",
      "#print N"
     ],
     "language": "python",
     "metadata": {},
     "outputs": [
      {
       "output_type": "stream",
       "stream": "stdout",
       "text": [
        "122.829072868\n",
        "818.860485785\n"
       ]
      }
     ],
     "prompt_number": 9
    },
    {
     "cell_type": "code",
     "collapsed": false,
     "input": [
      "dn = sqrt((((g*L/(Ie*le*u0*Is))**2)*(dmp**2))+(((mp*g/(Ie*le*u0*Is))**2)*(dL**2))+((((mp*g*L)/(le*u0*Is*(Ie**2)))**2)*(dIe**2))+((((mp*g*L)/(Ie*u0*Is*(le**2)))**2)*(dle**2))+((((mp*g*L)/(le*u0*Ie*(Is**2)))**2)*(dIs**2)))\n",
      "print dn"
     ],
     "language": "python",
     "metadata": {},
     "outputs": [
      {
       "output_type": "stream",
       "stream": "stdout",
       "text": [
        "383.338889116\n"
       ]
      }
     ],
     "prompt_number": 14
    },
    {
     "cell_type": "code",
     "collapsed": false,
     "input": [],
     "language": "python",
     "metadata": {},
     "outputs": []
    }
   ],
   "metadata": {}
  }
 ]
}
